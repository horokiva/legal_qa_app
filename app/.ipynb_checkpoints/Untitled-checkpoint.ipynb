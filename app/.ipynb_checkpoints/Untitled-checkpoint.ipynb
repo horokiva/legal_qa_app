{
 "cells": [
  {
   "cell_type": "code",
   "execution_count": 5,
   "id": "6a78857b-0882-4790-83eb-abf70cc34cee",
   "metadata": {},
   "outputs": [
    {
     "ename": "ModuleNotFoundError",
     "evalue": "No module named 'tkinter'",
     "output_type": "error",
     "traceback": [
      "\u001b[0;31m---------------------------------------------------------------------------\u001b[0m",
      "\u001b[0;31mModuleNotFoundError\u001b[0m                       Traceback (most recent call last)",
      "Cell \u001b[0;32mIn[5], line 1\u001b[0m\n\u001b[0;32m----> 1\u001b[0m \u001b[38;5;28;01mimport\u001b[39;00m\u001b[38;5;250m \u001b[39m\u001b[38;5;21;01mtkinter\u001b[39;00m\u001b[38;5;250m \u001b[39m\u001b[38;5;28;01mas\u001b[39;00m\u001b[38;5;250m \u001b[39m\u001b[38;5;21;01mtk\u001b[39;00m\n\u001b[1;32m      2\u001b[0m \u001b[38;5;28;01mfrom\u001b[39;00m\u001b[38;5;250m \u001b[39m\u001b[38;5;21;01mtkinter\u001b[39;00m\u001b[38;5;250m \u001b[39m\u001b[38;5;28;01mimport\u001b[39;00m ttk\n\u001b[1;32m      3\u001b[0m \u001b[38;5;28;01mimport\u001b[39;00m\u001b[38;5;250m \u001b[39m\u001b[38;5;21;01mpandas\u001b[39;00m\u001b[38;5;250m \u001b[39m\u001b[38;5;28;01mas\u001b[39;00m\u001b[38;5;250m \u001b[39m\u001b[38;5;21;01mpd\u001b[39;00m\n",
      "\u001b[0;31mModuleNotFoundError\u001b[0m: No module named 'tkinter'"
     ]
    }
   ],
   "source": [
    "import tkinter as tk\n",
    "from tkinter import ttk\n",
    "import pandas as pd\n",
    "import numpy as np\n",
    "from sentence_transformers import SentenceTransformer\n",
    "from sklearn.metrics.pairwise import cosine_similarity\n",
    "\n",
    "# Load model\n",
    "model = SentenceTransformer(\"sentence-transformers/paraphrase-multilingual-MiniLM-L12-v2\")\n",
    "\n",
    "# Load data\n",
    "df = pd.read_pickle(\"../data/laws_with_embeddings.pkl\")\n",
    "embeddings = np.vstack(df[\"embedding\"].apply(np.array))\n",
    "\n",
    "# Initialize app\n",
    "root = tk.Tk()\n",
    "root.title(\"Legal QA App\")\n",
    "root.geometry(\"900x600\")\n",
    "\n",
    "# Widgets\n",
    "query_label = tk.Label(root, text=\"Zadejte právní dotaz:\", font=(\"Arial\", 14))\n",
    "query_label.pack(pady=10)\n",
    "\n",
    "query_var = tk.StringVar()\n",
    "query_entry = tk.Entry(root, textvariable=query_var, font=(\"Arial\", 12), width=80)\n",
    "query_entry.pack(pady=5)\n",
    "\n",
    "def run_query():\n",
    "    query = query_var.get()\n",
    "    if not query.strip():\n",
    "        return\n",
    "    query_vec = model.encode([query])\n",
    "    scores = cosine_similarity(query_vec, embeddings)[0]\n",
    "    df[\"score\"] = scores\n",
    "    top = df.sort_values(\"score\", ascending=False).head(5)\n",
    "\n",
    "    result_box.delete(1.0, tk.END)\n",
    "    for idx, row in top.iterrows():\n",
    "        result_box.insert(tk.END, f\"📘 Zákon: {row['Law']}\\n\")\n",
    "        result_box.insert(tk.END, f\"📜 Paragraf: {row['Paragraph']}\\n\")\n",
    "        result_box.insert(tk.END, f\"🔍 Skóre: {row['score']:.4f}\\n\\n\")\n",
    "\n",
    "search_button = tk.Button(root, text=\"🔎 Hledat\", command=run_query, font=(\"Arial\", 12), bg=\"#4CAF50\", fg=\"white\")\n",
    "search_button.pack(pady=10)\n",
    "\n",
    "result_box = tk.Text(root, wrap=tk.WORD, font=(\"Arial\", 11))\n",
    "result_box.pack(padx=10, pady=10, expand=True, fill=tk.BOTH)\n",
    "\n",
    "# Run the app\n",
    "root.mainloop()"
   ]
  },
  {
   "cell_type": "code",
   "execution_count": null,
   "id": "193bd135-2489-4d1e-93d6-d23bd366ef1b",
   "metadata": {},
   "outputs": [],
   "source": []
  },
  {
   "cell_type": "code",
   "execution_count": null,
   "id": "50886b06-8647-4358-ae29-8a0fdf1e2f9e",
   "metadata": {},
   "outputs": [],
   "source": []
  },
  {
   "cell_type": "code",
   "execution_count": null,
   "id": "d5125914-e409-4251-8f43-7c64a0d0ebc4",
   "metadata": {},
   "outputs": [],
   "source": []
  },
  {
   "cell_type": "code",
   "execution_count": null,
   "id": "0add623b-d933-4a15-b91c-8e240c80355b",
   "metadata": {},
   "outputs": [],
   "source": []
  },
  {
   "cell_type": "code",
   "execution_count": null,
   "id": "e4946daf-d408-4973-a0dc-7cf4c4b82226",
   "metadata": {},
   "outputs": [],
   "source": []
  }
 ],
 "metadata": {
  "kernelspec": {
   "display_name": "Python 3 (ipykernel)",
   "language": "python",
   "name": "python3"
  },
  "language_info": {
   "codemirror_mode": {
    "name": "ipython",
    "version": 3
   },
   "file_extension": ".py",
   "mimetype": "text/x-python",
   "name": "python",
   "nbconvert_exporter": "python",
   "pygments_lexer": "ipython3",
   "version": "3.10.17"
  }
 },
 "nbformat": 4,
 "nbformat_minor": 5
}

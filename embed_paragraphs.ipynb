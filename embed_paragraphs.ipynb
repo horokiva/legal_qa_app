{
 "cells": [
  {
   "cell_type": "code",
   "execution_count": 1,
   "id": "15a1b4c9-f431-460e-bc5f-d8e3b77f6d9c",
   "metadata": {},
   "outputs": [],
   "source": [
    "from sentence_transformers import SentenceTransformer\n",
    "import pandas as pd\n",
    "import numpy as np\n",
    "\n",
    "model = SentenceTransformer(\"sentence-transformers/paraphrase-multilingual-MiniLM-L12-v2\")\n",
    "df = pd.read_csv(\"data/law_paragraphs.csv\")\n",
    "\n",
    "# Generate embeddings\n",
    "df[\"embedding\"] = df[\"Paragraph\"].apply(lambda x: model.encode(x).tolist())\n",
    "\n",
    "# Save for search\n",
    "df.to_pickle(\"laws_with_embeddings.pkl\")"
   ]
  },
  {
   "cell_type": "code",
   "execution_count": null,
   "id": "4e0944d1-cdbd-4b58-8d1b-b0f1c39e139e",
   "metadata": {},
   "outputs": [],
   "source": []
  },
  {
   "cell_type": "code",
   "execution_count": null,
   "id": "6c3e6fe6-3725-4e9b-9b88-27e252d7649b",
   "metadata": {},
   "outputs": [],
   "source": []
  },
  {
   "cell_type": "code",
   "execution_count": null,
   "id": "84f84d55-7268-4d0d-b2b0-0896b23624e8",
   "metadata": {},
   "outputs": [],
   "source": []
  }
 ],
 "metadata": {
  "kernelspec": {
   "display_name": "Python 3 (ipykernel)",
   "language": "python",
   "name": "python3"
  },
  "language_info": {
   "codemirror_mode": {
    "name": "ipython",
    "version": 3
   },
   "file_extension": ".py",
   "mimetype": "text/x-python",
   "name": "python",
   "nbconvert_exporter": "python",
   "pygments_lexer": "ipython3",
   "version": "3.10.17"
  }
 },
 "nbformat": 4,
 "nbformat_minor": 5
}

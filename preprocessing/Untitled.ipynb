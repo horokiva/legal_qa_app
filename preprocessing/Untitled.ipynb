{
 "cells": [
  {
   "cell_type": "code",
   "execution_count": 17,
   "id": "94c10c31-7377-46ad-8819-4d96fe5d8eaf",
   "metadata": {},
   "outputs": [
    {
     "name": "stdout",
     "output_type": "stream",
     "text": [
      "                        Law                                       Paragraph  \\\n",
      "287         Trestní zákoník  § 168 odst. 4, 5, zbavení osobní svobody podle   \n",
      "4311  Trestní zákon (starý)        § 231 odst. 3), zbavení osobní svobody (   \n",
      "7221          Trestní zákon                 § 197, zbavení osobní svobody (   \n",
      "992         Trestní zákoník        § 168 odst. 2 a zbavení osobní svobody (   \n",
      "950         Trestní zákoník                § 168), zbavení osobní svobody (   \n",
      "\n",
      "         score  \n",
      "287   0.729973  \n",
      "4311  0.688263  \n",
      "7221  0.686965  \n",
      "992   0.684573  \n",
      "950   0.671728  \n"
     ]
    }
   ],
   "source": [
    "from sentence_transformers import SentenceTransformer\n",
    "from sklearn.metrics.pairwise import cosine_similarity\n",
    "import pandas as pd\n",
    "import numpy as np\n",
    "\n",
    "# Load model\n",
    "model = SentenceTransformer(\"sentence-transformers/paraphrase-multilingual-MiniLM-L12-v2\")\n",
    "\n",
    "# Load data with precomputed embeddings (make sure it's a pickled DataFrame)\n",
    "df = pd.read_pickle(\"../data/laws_with_embeddings.pkl\")\n",
    "\n",
    "# Embed a query\n",
    "query = \"Pět let odnětí svobody\"\n",
    "query_vec = model.encode([query])\n",
    "\n",
    "# Convert stored embeddings to numpy array\n",
    "embeddings = np.vstack(df[\"embedding\"].apply(np.array))\n",
    "\n",
    "# Compute cosine similarity\n",
    "similarities = cosine_similarity(query_vec, embeddings)[0]\n",
    "\n",
    "# Get top 5 matches\n",
    "df[\"score\"] = similarities\n",
    "top_matches = df.sort_values(\"score\", ascending=False).head(5)\n",
    "\n",
    "# Show top results\n",
    "print(top_matches[[\"Law\", \"Paragraph\", \"score\"]])"
   ]
  },
  {
   "cell_type": "code",
   "execution_count": null,
   "id": "b192fc22-84cc-4854-bec4-35cbd99c6185",
   "metadata": {},
   "outputs": [],
   "source": []
  }
 ],
 "metadata": {
  "kernelspec": {
   "display_name": "Python 3 (ipykernel)",
   "language": "python",
   "name": "python3"
  },
  "language_info": {
   "codemirror_mode": {
    "name": "ipython",
    "version": 3
   },
   "file_extension": ".py",
   "mimetype": "text/x-python",
   "name": "python",
   "nbconvert_exporter": "python",
   "pygments_lexer": "ipython3",
   "version": "3.10.17"
  }
 },
 "nbformat": 4,
 "nbformat_minor": 5
}
